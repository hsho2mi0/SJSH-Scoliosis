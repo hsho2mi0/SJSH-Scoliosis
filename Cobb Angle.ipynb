{
 "cells": [
  {
   "cell_type": "code",
   "execution_count": 1,
   "id": "384f85ad",
   "metadata": {
    "ExecuteTime": {
     "end_time": "2021-07-08T10:24:37.118146Z",
     "start_time": "2021-07-08T10:24:36.823934Z"
    }
   },
   "outputs": [],
   "source": [
    "import cv2 as cv\n",
    "import os\n",
    "import numpy as np\n",
    "from tqdm import tqdm\n",
    "from math import sqrt\n",
    "from math import atan\n",
    "import math"
   ]
  },
  {
   "cell_type": "code",
   "execution_count": 2,
   "id": "941ac422",
   "metadata": {
    "ExecuteTime": {
     "end_time": "2021-07-08T10:24:37.134103Z",
     "start_time": "2021-07-08T10:24:37.120142Z"
    }
   },
   "outputs": [
    {
     "name": "stdout",
     "output_type": "stream",
     "text": [
      "['003.png', '007.png', '008.png', '012.png', '014.png', '019.png', '023.png', '024.png', '027.png', '029.png', '037.png', '043.png', '2.png', '31.png', '33.png']\n"
     ]
    }
   ],
   "source": [
    "img_dir = \"./cobb_angle_img\"\n",
    "img_list = os.listdir(img_dir)\n",
    "print(img_list)\n",
    "output = \"./cobb_angle_test\""
   ]
  },
  {
   "cell_type": "code",
   "execution_count": 3,
   "id": "8946c223",
   "metadata": {
    "ExecuteTime": {
     "end_time": "2021-07-08T10:24:37.150061Z",
     "start_time": "2021-07-08T10:24:37.136098Z"
    }
   },
   "outputs": [
    {
     "name": "stdout",
     "output_type": "stream",
     "text": [
      "24\n"
     ]
    }
   ],
   "source": [
    "yellow = (0, 255, 255)\n",
    "red = (0, 0, 255)\n",
    "green = (0, 255, 0)\n",
    "blue = (255, 0, 0)\n",
    "name_list = ['L5', 'L4', 'L3', 'L2', 'L1', 'T12', 'T11', 'T10', 'T9', 'T8', 'T7', 'T6', 'T5', 'T4', 'T3', 'T2', 'T1',\n",
    "             'C7', 'C6', 'C5', 'C4', 'C3', 'C2', 'C1']\n",
    "print(len(name_list))"
   ]
  },
  {
   "cell_type": "code",
   "execution_count": 4,
   "id": "9a5038e0",
   "metadata": {
    "ExecuteTime": {
     "end_time": "2021-07-08T10:24:37.166017Z",
     "start_time": "2021-07-08T10:24:37.152056Z"
    }
   },
   "outputs": [],
   "source": [
    "def draw_upper_vertebra(vertebrae_information, color):\n",
    "    for item in vertebrae_information:\n",
    "        if item['location']:\n",
    "            pt1 = (item['vertexes'][2][0], item['vertexes'][2][1])\n",
    "            pt2 = (item['vertexes'][3][0], item['vertexes'][3][1])\n",
    "            cv.line(im, pt1, pt2, color, 20)\n",
    "        else:\n",
    "            pt1 = (item['vertexes'][1][0], item['vertexes'][1][1])\n",
    "            pt2 = (item['vertexes'][2][0], item['vertexes'][2][1])\n",
    "            cv.line(im, pt1, pt2, color, 20)"
   ]
  },
  {
   "cell_type": "code",
   "execution_count": 5,
   "id": "dd7a10e8",
   "metadata": {
    "ExecuteTime": {
     "end_time": "2021-07-08T10:24:37.181976Z",
     "start_time": "2021-07-08T10:24:37.168013Z"
    }
   },
   "outputs": [],
   "source": [
    "def draw_turning_point(turning_location, vertebrae_information, color):\n",
    "    for item in turning_location:\n",
    "        location = vertebrae_information[item['previous']]\n",
    "        if location['location']:\n",
    "            pt1 = (location['vertexes'][2][0], location['vertexes'][2][1])\n",
    "            pt2 = (location['vertexes'][3][0], location['vertexes'][3][1])\n",
    "            cv.line(im, pt1, pt2, color, 20)\n",
    "        else:\n",
    "            pt1 = (location['vertexes'][1][0], location['vertexes'][1][1])\n",
    "            pt2 = (location['vertexes'][2][0], location['vertexes'][2][1])\n",
    "            cv.line(im, pt1, pt2, color, 20)"
   ]
  },
  {
   "cell_type": "code",
   "execution_count": 6,
   "id": "c745d038",
   "metadata": {
    "ExecuteTime": {
     "end_time": "2021-07-08T10:24:37.197933Z",
     "start_time": "2021-07-08T10:24:37.183971Z"
    }
   },
   "outputs": [],
   "source": [
    "def draw_singal_vertebra(item, color, up):\n",
    "    if up:\n",
    "        if item['location']:\n",
    "            pt1 = (item['vertexes'][2][0], item['vertexes'][2][1])\n",
    "            pt2 = (item['vertexes'][3][0], item['vertexes'][3][1])\n",
    "            cv.line(im, pt1, pt2, color, 20)\n",
    "        else:\n",
    "            pt1 = (item['vertexes'][1][0], item['vertexes'][1][1])\n",
    "            pt2 = (item['vertexes'][2][0], item['vertexes'][2][1])\n",
    "            cv.line(im, pt1, pt2, color, 20)\n",
    "    else:\n",
    "        if item['location']:\n",
    "            pt1 = (item['vertexes'][0][0], item['vertexes'][0][1])\n",
    "            pt2 = (item['vertexes'][1][0], item['vertexes'][1][1])\n",
    "            cv.line(im, pt1, pt2, color, 20)\n",
    "        else:\n",
    "            pt1 = (item['vertexes'][0][0], item['vertexes'][0][1])\n",
    "            pt2 = (item['vertexes'][3][0], item['vertexes'][3][1])\n",
    "            cv.line(im, pt1, pt2, color, 20)"
   ]
  },
  {
   "cell_type": "code",
   "execution_count": 7,
   "id": "8f092034",
   "metadata": {
    "ExecuteTime": {
     "end_time": "2021-07-08T10:24:41.166858Z",
     "start_time": "2021-07-08T10:24:37.203918Z"
    },
    "scrolled": true
   },
   "outputs": [
    {
     "name": "stderr",
     "output_type": "stream",
     "text": [
      "  7%|█████▌                                                                             | 1/15 [00:00<00:03,  3.58it/s]"
     ]
    },
    {
     "name": "stdout",
     "output_type": "stream",
     "text": [
      "10 14\n",
      "중간에서 상단 및 하단 부위에서 측만증\n"
     ]
    },
    {
     "name": "stderr",
     "output_type": "stream",
     "text": [
      "\r",
      " 13%|███████████                                                                        | 2/15 [00:00<00:03,  3.95it/s]"
     ]
    },
    {
     "name": "stdout",
     "output_type": "stream",
     "text": [
      "11 16\n",
      "중간에서 상단 및 하단 부위에서 측만증\n"
     ]
    },
    {
     "name": "stderr",
     "output_type": "stream",
     "text": [
      "\r",
      " 20%|████████████████▌                                                                  | 3/15 [00:00<00:02,  4.05it/s]"
     ]
    },
    {
     "name": "stdout",
     "output_type": "stream",
     "text": [
      "9 17\n",
      "윗부분에서 두 개의 측만증\n"
     ]
    },
    {
     "name": "stderr",
     "output_type": "stream",
     "text": [
      "\r",
      " 27%|██████████████████████▏                                                            | 4/15 [00:00<00:02,  4.40it/s]"
     ]
    },
    {
     "name": "stdout",
     "output_type": "stream",
     "text": [
      "8 14\n",
      "중간에서 상단 및 하단 부위에서 측만증\n",
      "6 10\n",
      "중간에서 상단 및 하단 부위에서 측만증\n"
     ]
    },
    {
     "name": "stderr",
     "output_type": "stream",
     "text": [
      " 40%|█████████████████████████████████▏                                                 | 6/15 [00:01<00:01,  4.89it/s]"
     ]
    },
    {
     "name": "stdout",
     "output_type": "stream",
     "text": [
      "0 7\n",
      "나머지 하단 부분에서 두 개의 측만증\n",
      "3 9\n",
      "중간에서 상단 및 하단 부위에서 측만증\n"
     ]
    },
    {
     "name": "stderr",
     "output_type": "stream",
     "text": [
      " 53%|████████████████████████████████████████████▎                                      | 8/15 [00:01<00:01,  5.22it/s]"
     ]
    },
    {
     "name": "stdout",
     "output_type": "stream",
     "text": [
      "4 11\n",
      "중간에서 상단 및 하단 부위에서 측만증\n",
      "5 10\n",
      "중간에서 상단 및 하단 부위에서 측만증\n"
     ]
    },
    {
     "name": "stderr",
     "output_type": "stream",
     "text": [
      " 67%|██████████████████████████████████████████████████████▋                           | 10/15 [00:02<00:01,  4.77it/s]"
     ]
    },
    {
     "name": "stdout",
     "output_type": "stream",
     "text": [
      "12 14\n",
      "중간에서 상단 및 하단 부위에서 측만증\n"
     ]
    },
    {
     "name": "stderr",
     "output_type": "stream",
     "text": [
      "\r",
      " 73%|████████████████████████████████████████████████████████████▏                     | 11/15 [00:02<00:00,  4.40it/s]"
     ]
    },
    {
     "name": "stdout",
     "output_type": "stream",
     "text": [
      "11 16\n",
      "중간에서 상단 및 하단 부위에서 측만증\n"
     ]
    },
    {
     "name": "stderr",
     "output_type": "stream",
     "text": [
      "\r",
      " 80%|█████████████████████████████████████████████████████████████████▌                | 12/15 [00:02<00:00,  4.30it/s]"
     ]
    },
    {
     "name": "stdout",
     "output_type": "stream",
     "text": [
      "0 9\n",
      "나머지 하단 부분에서 두 개의 측만증\n"
     ]
    },
    {
     "name": "stderr",
     "output_type": "stream",
     "text": [
      "\r",
      " 87%|███████████████████████████████████████████████████████████████████████           | 13/15 [00:03<00:00,  3.46it/s]"
     ]
    },
    {
     "name": "stdout",
     "output_type": "stream",
     "text": [
      "10 23\n",
      "윗부분에서 두 개의 측만증\n"
     ]
    },
    {
     "name": "stderr",
     "output_type": "stream",
     "text": [
      "\r",
      " 93%|████████████████████████████████████████████████████████████████████████████▌     | 14/15 [00:03<00:00,  3.04it/s]"
     ]
    },
    {
     "name": "stdout",
     "output_type": "stream",
     "text": [
      "0 22\n",
      "나머지 하단 부분에서 두 개의 측만증\n"
     ]
    },
    {
     "name": "stderr",
     "output_type": "stream",
     "text": [
      "100%|██████████████████████████████████████████████████████████████████████████████████| 15/15 [00:03<00:00,  3.88it/s]"
     ]
    },
    {
     "name": "stdout",
     "output_type": "stream",
     "text": [
      "15 21\n",
      "윗부분에서 두 개의 측만증\n",
      "작업 완료\n"
     ]
    },
    {
     "name": "stderr",
     "output_type": "stream",
     "text": [
      "\n"
     ]
    }
   ],
   "source": [
    "for item in tqdm(img_list):\n",
    "    file = os.path.join(img_dir, item)\n",
    "    output_file = os.path.join(output, item)\n",
    "\n",
    "    im = cv.imread(file)\n",
    "    imgray = cv.cvtColor(im, cv.COLOR_BGR2GRAY)\n",
    "    ret, thresh = cv.threshold(imgray, 127, 255, 0)\n",
    "    contours, hierarchy = cv.findContours(thresh, cv.RETR_TREE, cv.CHAIN_APPROX_SIMPLE)\n",
    "\n",
    "    # Vertebra rect 정보 목록, 작은 것에서 큰 것까지 y 값\n",
    "    rect_list = []\n",
    "    for index in range(len(contours)):\n",
    "        contour = contours[index]\n",
    "        rect = cv.minAreaRect(contour)  # 최소 경계 사각형 (가운데 (x, y), (너비, 높이), 회전 각도) 가져 오기\n",
    "        rect_list.append(rect)\n",
    "    rect_list.sort(key=lambda item: item[0][1])  # 작은 것에서 큰 것까지 y 값으로 정렬\n",
    "\n",
    "    mark_rect = rect_list.copy()\n",
    "    mark_rect.reverse()\n",
    "\n",
    "    # 척추 종점 정보, 중심점, 상부 척추 경사, 하부 척추 경사\n",
    "    vertebrae_information = []\n",
    "    turning_location = []\n",
    "    for index in range(len(mark_rect)):\n",
    "        center = (int(mark_rect[index][0][0] - 50), int(mark_rect[index][0][1]))\n",
    "        im = cv.putText(im, str(name_list[index]), center, cv.FONT_HERSHEY_SIMPLEX, 2, blue, 3)\n",
    "\n",
    "    for index in range(len(rect_list)):\n",
    "        center = (int(rect_list[index][0][0] - 50), int(rect_list[index][0][1]))\n",
    "\n",
    "        # 척추 정점 정보 저장\n",
    "        box = cv.boxPoints(rect_list[index])\n",
    "        box = np.int0(box)\n",
    "        # 고정 소수점 01의 위치가 수평인지 수직인지 확인\n",
    "        point0 = (box[0][0], box[0][1])\n",
    "        point1 = (box[1][0], box[1][1])\n",
    "        point2 = (box[2][0], box[2][1])\n",
    "        distance_01 = sqrt(pow(point0[0] - point1[0], 2) + pow(point0[1] - point1[1], 2))\n",
    "        distance_12 = sqrt(pow(point1[0] - point2[0], 2) + pow(point1[1] - point2[1], 2))\n",
    "\n",
    "        # 2 3\n",
    "        # 1 0\n",
    "        if distance_01 > distance_12:\n",
    "            up_slope = (box[3][1] - box[2][1]) / (box[3][0] - box[2][0])\n",
    "            down_slope = (box[0][1] - box[1][1]) / (box[0][0] - box[1][0])\n",
    "            vertex = {'index': index, 'location': True, 'vertexes': box, 'center': center, 'up_slope': up_slope,\n",
    "                      'down_slope': down_slope}\n",
    "            vertebrae_information.append(vertex)\n",
    "        # 1 2\n",
    "        # 0 3\n",
    "        else:\n",
    "            up_slope = (box[2][1] - box[1][1]) / (box[2][0] - box[1][0])\n",
    "            down_slope = (box[3][1] - box[0][1]) / (box[3][0] - box[0][0])\n",
    "            vertex = {'index': index, 'location': False, 'vertexes': box, 'center': center, 'up_slope': up_slope,\n",
    "                      'down_slope': down_slope}\n",
    "            vertebrae_information.append(vertex)\n",
    "        im = cv.drawContours(im, [box], 0, green, 1)\n",
    "\n",
    "    # 휘어진 곳 찾기\n",
    "    flag_index = [-1, -1]\n",
    "    for index in range(len(rect_list)):\n",
    "        if index + 1 < len(rect_list):\n",
    "            if vertebrae_information[index]['location'] == False and vertebrae_information[index + 1][\n",
    "                'location'] == True:\n",
    "                if flag_index[1] != index:  # 제거 간격은 1\n",
    "                    flag_index = [index, index + 1]\n",
    "                    turning_index = {'previous': index, 'last': index + 1}\n",
    "                    turning_location.append(turning_index)\n",
    "            if vertebrae_information[index]['location'] == True and vertebrae_information[index + 1][\n",
    "                'location'] == False:\n",
    "                if flag_index[1] != index:\n",
    "                    flag_index = [index, index + 1]\n",
    "                    turning_index = {'previous': index, 'last': index + 1}\n",
    "                    turning_location.append(turning_index)\n",
    "\n",
    "    # 상부 및 하부 원뿔의 절대 값이 가장 큰 척추를 찾습니다.\n",
    "    # 그리고 최대 Cobb Angle을 계산\n",
    "    slope_decline = vertebrae_information.copy()\n",
    "    slope_decline.sort(key=lambda x: x['up_slope'], reverse=True)\n",
    "    end_index = len(slope_decline) - 1\n",
    "    max_cobb = []\n",
    "\n",
    "    if slope_decline[0]['center'][1] > slope_decline[end_index]['center'][1]:\n",
    "        draw_singal_vertebra(slope_decline[end_index], red, True)  # 상부 척추\n",
    "        draw_singal_vertebra(slope_decline[0], red, False)  # 하부 척추\n",
    "\n",
    "        k1 = slope_decline[end_index]['up_slope']\n",
    "        k2 = slope_decline[0]['down_slope']\n",
    "        angle = math.degrees(atan(abs((k2 - k1) / (1 + k1 * k2))))\n",
    "        cobb = {'up_id': slope_decline[end_index]['index'], 'bottom_id': slope_decline[0]['index'], 'cobb_angle': angle}\n",
    "        max_cobb.append(cobb)\n",
    "\n",
    "        # 각도에 주석 달기\n",
    "        y = int(slope_decline[end_index]['center'][1] + \\\n",
    "                (slope_decline[0]['center'][1] - slope_decline[end_index]['center'][1]) / 2)\n",
    "        put_point = (slope_decline[0]['center'][0] - 500, y)\n",
    "        im = cv.putText(im, str(round(angle, 2)), put_point, cv.FONT_HERSHEY_SIMPLEX, 4,\n",
    "                        red, 4)\n",
    "    else:\n",
    "        draw_singal_vertebra(slope_decline[end_index], red, False)  # 하단 척추\n",
    "        draw_singal_vertebra(slope_decline[0], red, True)  # 상단 척추\n",
    "\n",
    "        k1 = slope_decline[0]['up_slope']\n",
    "        k2 = slope_decline[end_index]['down_slope']\n",
    "        angle = math.degrees(atan(abs((k2 - k1) / (1 + k1 * k2))))\n",
    "        cobb = {'up_id': slope_decline[0]['index'], 'bottom_id': slope_decline[end_index]['index'], 'cobb_angle': angle}\n",
    "        max_cobb.append(cobb)\n",
    "\n",
    "        y = int(slope_decline[0]['center'][1] + \\\n",
    "                (slope_decline[end_index]['center'][1] - slope_decline[0]['center'][1]) / 2)\n",
    "        put_point = (slope_decline[1]['center'][0] - 500, y)\n",
    "        im = cv.putText(im, str(round(angle, 2)), put_point, cv.FONT_HERSHEY_SIMPLEX, 4,\n",
    "                        red, 4)\n",
    "\n",
    "    # 최대 Cobb Angle을 기준으로 나머지 각도를 계산\n",
    "    for item in max_cobb:\n",
    "        up_id = int(item['up_id'])\n",
    "        bt_id = int(item['bottom_id'])\n",
    "        print(up_id, bt_id)\n",
    "        ver_top = vertebrae_information[0]\n",
    "        ver_end = vertebrae_information[len(vertebrae_information) - 1]\n",
    "\n",
    "        if item['up_id'] == 0 or item['bottom_id'] == (len(vertebrae_information) - 1):\n",
    "            if item['up_id'] == 0:\n",
    "                if item['bottom_id'] == (len(max_cobb) - 1):\n",
    "                    print(\"전체가 굴곡\")  # type0\n",
    "                else:\n",
    "                    print(\"나머지 하단 부분에서 두 개의 측만증\")  # type1\n",
    "                    # 아래쪽 절반 순서 변경\n",
    "                    rest_series = vertebrae_information.copy()[bt_id - 1:]\n",
    "                    rest_series.sort(key=lambda x: x['up_slope'], reverse=True)\n",
    "                    bottom_id = len(rest_series) - 1\n",
    "\n",
    "                    new_vertebrae = [rest_series[0], rest_series[bottom_id], ver_end]\n",
    "                    new_vertebrae.sort(key=lambda x: x['center'][1])\n",
    "                    # cobb의 하반부를 계산\n",
    "                    k1 = new_vertebrae[0]['up_slope']\n",
    "                    k2 = new_vertebrae[1]['down_slope']\n",
    "                    k3 = new_vertebrae[1]['up_slope']\n",
    "                    k4 = new_vertebrae[2]['down_slope']\n",
    "                    cobb1 = math.degrees(atan(abs((k2 - k1) / (1 + k1 * k2))))\n",
    "                    cobb2 = math.degrees(atan(abs((k4 - k3) / (1 + k4 * k3))))\n",
    "\n",
    "                    texPoint1 = (new_vertebrae[0]['center'][0] - 500, new_vertebrae[0]['center'][1])\n",
    "                    im = cv.putText(im, str(round(cobb1, 2)), texPoint1, cv.FONT_HERSHEY_SIMPLEX, 4,\n",
    "                                    yellow, 4)\n",
    "                    texPoint2 = (new_vertebrae[2]['center'][0] - 500, new_vertebrae[2]['center'][1])\n",
    "                    im = cv.putText(im, str(round(cobb2, 2)), texPoint2, cv.FONT_HERSHEY_SIMPLEX, 4,\n",
    "                                    green, 4)\n",
    "\n",
    "                    draw_singal_vertebra(new_vertebrae[0], yellow, True)\n",
    "                    draw_singal_vertebra(new_vertebrae[1], yellow, False)\n",
    "                    draw_singal_vertebra(new_vertebrae[1], green, True)\n",
    "                    draw_singal_vertebra(new_vertebrae[2], green, False)\n",
    "\n",
    "\n",
    "            else:\n",
    "                print(\"윗부분에서 두 개의 측만증\")  # type2\n",
    "                # 위쪽 절반 순서 변경\n",
    "                rest_series = vertebrae_information.copy()[:up_id + 1]\n",
    "                rest_series.sort(key=lambda x: x['up_slope'], reverse=True)\n",
    "                bottom_id = len(rest_series) - 1\n",
    "\n",
    "                new_vertebrae = [rest_series[0], rest_series[bottom_id], ver_top]\n",
    "                new_vertebrae.sort(key=lambda x: x['center'][1])\n",
    "\n",
    "                # cobb의 전반부를 계산\n",
    "                k1 = new_vertebrae[0]['up_slope']\n",
    "                k2 = new_vertebrae[1]['down_slope']\n",
    "                k3 = new_vertebrae[1]['up_slope']\n",
    "                k4 = new_vertebrae[2]['down_slope']\n",
    "                cobb1 = math.degrees(atan(abs((k2 - k1) / (1 + k1 * k2))))\n",
    "                cobb2 = math.degrees(atan(abs((k4 - k3) / (1 + k4 * k3))))\n",
    "\n",
    "                texPoint1 = (new_vertebrae[0]['center'][0] - 500, new_vertebrae[0]['center'][1])\n",
    "                im = cv.putText(im, str(round(cobb1, 2)), texPoint1, cv.FONT_HERSHEY_SIMPLEX, 4,\n",
    "                                yellow, 4)\n",
    "                texPoint2 = (new_vertebrae[2]['center'][0] - 500, new_vertebrae[2]['center'][1])\n",
    "                im = cv.putText(im, str(round(cobb2, 2)), texPoint2, cv.FONT_HERSHEY_SIMPLEX, 4,\n",
    "                                green, 4)\n",
    "\n",
    "                draw_singal_vertebra(new_vertebrae[0], yellow, True)\n",
    "                draw_singal_vertebra(new_vertebrae[1], yellow, False)\n",
    "                draw_singal_vertebra(new_vertebrae[1], green, True)\n",
    "                draw_singal_vertebra(new_vertebrae[2], green, False)\n",
    "\n",
    "        else:\n",
    "            print(\"중간에서 상단 및 하단 부위에서 측만증\")  # type3\n",
    "            # 가로 채기의 양쪽에서 별도로 계산\n",
    "            top_series = vertebrae_information.copy()[:up_id + 1]\n",
    "            bottom_series = vertebrae_information.copy()[bt_id - 1:]\n",
    "            tp_end = len(top_series) - 1\n",
    "            bt_end = len(bottom_series) - 1\n",
    "\n",
    "            top_series.sort(key=lambda x: x['up_slope'], reverse=True)\n",
    "            bottom_series.sort(key=lambda x: x['up_slope'], reverse=True)\n",
    "\n",
    "            new_vertebrae1 = [top_series[0], top_series[tp_end]]\n",
    "            new_vertebrae1.sort(key=lambda x: x['center'][1])\n",
    "            new_vertebrae2 = [bottom_series[0], bottom_series[bt_end]]\n",
    "            new_vertebrae2.sort(key=lambda x: x['center'][1])\n",
    "\n",
    "            # cobb의 하반부를 계산\n",
    "            k1 = new_vertebrae1[0]['up_slope']\n",
    "            k2 = new_vertebrae1[1]['down_slope']\n",
    "            k3 = new_vertebrae2[0]['up_slope']\n",
    "            k4 = new_vertebrae2[1]['down_slope']\n",
    "            cobb1 = math.degrees(atan(abs((k2 - k1) / (1 + k1 * k2))))\n",
    "            cobb2 = math.degrees(atan(abs((k4 - k3) / (1 + k4 * k3))))\n",
    "\n",
    "            texPoint1 = (new_vertebrae1[0]['center'][0] - 500, new_vertebrae1[0]['center'][1])\n",
    "            im = cv.putText(im, str(round(cobb1, 2)), texPoint1, cv.FONT_HERSHEY_SIMPLEX, 4,\n",
    "                            yellow, 4)\n",
    "            texPoint2 = (new_vertebrae2[1]['center'][0] - 500, new_vertebrae2[1]['center'][1])\n",
    "            im = cv.putText(im, str(round(cobb2, 2)), texPoint2, cv.FONT_HERSHEY_SIMPLEX, 4,\n",
    "                            green, 4)\n",
    "\n",
    "            draw_singal_vertebra(new_vertebrae1[0], yellow, True)\n",
    "            draw_singal_vertebra(new_vertebrae1[1], yellow, False)\n",
    "            draw_singal_vertebra(new_vertebrae2[0], green, True)\n",
    "            draw_singal_vertebra(new_vertebrae2[1], green, False)\n",
    "\n",
    "    cv.imwrite(output_file, im)\n",
    "print(\"작업 완료\")"
   ]
  }
 ],
 "metadata": {
  "kernelspec": {
   "display_name": "Python 3",
   "language": "python",
   "name": "python3"
  },
  "language_info": {
   "codemirror_mode": {
    "name": "ipython",
    "version": 3
   },
   "file_extension": ".py",
   "mimetype": "text/x-python",
   "name": "python",
   "nbconvert_exporter": "python",
   "pygments_lexer": "ipython3",
   "version": "3.7.6"
  },
  "toc": {
   "base_numbering": 1,
   "nav_menu": {},
   "number_sections": true,
   "sideBar": true,
   "skip_h1_title": false,
   "title_cell": "Table of Contents",
   "title_sidebar": "Contents",
   "toc_cell": false,
   "toc_position": {},
   "toc_section_display": true,
   "toc_window_display": false
  },
  "varInspector": {
   "cols": {
    "lenName": 16,
    "lenType": 16,
    "lenVar": 40
   },
   "kernels_config": {
    "python": {
     "delete_cmd_postfix": "",
     "delete_cmd_prefix": "del ",
     "library": "var_list.py",
     "varRefreshCmd": "print(var_dic_list())"
    },
    "r": {
     "delete_cmd_postfix": ") ",
     "delete_cmd_prefix": "rm(",
     "library": "var_list.r",
     "varRefreshCmd": "cat(var_dic_list()) "
    }
   },
   "types_to_exclude": [
    "module",
    "function",
    "builtin_function_or_method",
    "instance",
    "_Feature"
   ],
   "window_display": false
  }
 },
 "nbformat": 4,
 "nbformat_minor": 5
}
